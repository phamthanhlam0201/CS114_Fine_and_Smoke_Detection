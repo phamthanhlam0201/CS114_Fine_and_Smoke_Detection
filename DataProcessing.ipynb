{
 "cells": [
  {
   "cell_type": "code",
   "execution_count": 8,
   "metadata": {},
   "outputs": [],
   "source": [
    "from PIL import Image\n",
    "import os\n",
    "\n",
    "# Đường dẫn đến thư mục chứa ảnh\n",
    "folder_path = \"Non-Fire and Smoke Dataset\"\n",
    "\n",
    "# Lặp qua tất cả các tệp tin trong thư mục\n",
    "for filename in os.listdir(folder_path):\n",
    "    if filename.endswith(\".jpg\"):\n",
    "        continue  # Đã là định dạng JPG, bỏ qua\n",
    "    else:\n",
    "        # Đường dẫn đầy đủ của tệp tin\n",
    "        file_path = os.path.join(folder_path, filename)\n",
    "\n",
    "        # Mở ảnh\n",
    "        image = Image.open(file_path)\n",
    "\n",
    "        if image.mode != \"RGB\":\n",
    "            image = image.convert(\"RGB\")\n",
    "\n",
    "        # Chuyển đổi thành định dạng JPG\n",
    "        new_file_path = os.path.splitext(file_path)[0] + \".jpg\"\n",
    "        image.save(new_file_path, \"JPEG\")\n",
    "        image.close()\n",
    "\n",
    "        # Xóa tệp tin gốc nếu bạn muốn\n",
    "        os.remove(file_path)\n"
   ]
  },
  {
   "cell_type": "code",
   "execution_count": null,
   "metadata": {},
   "outputs": [],
   "source": []
  }
 ],
 "metadata": {
  "kernelspec": {
   "display_name": "Python 3",
   "language": "python",
   "name": "python3"
  },
  "language_info": {
   "codemirror_mode": {
    "name": "ipython",
    "version": 3
   },
   "file_extension": ".py",
   "mimetype": "text/x-python",
   "name": "python",
   "nbconvert_exporter": "python",
   "pygments_lexer": "ipython3",
   "version": "3.8.10"
  },
  "orig_nbformat": 4
 },
 "nbformat": 4,
 "nbformat_minor": 2
}
